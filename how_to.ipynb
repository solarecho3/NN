{
 "cells": [
  {
   "cell_type": "markdown",
   "metadata": {},
   "source": [
    "#### Initialize\n",
    "\n",
    "* import the `classes` module\n",
    "* import numpy\n",
    "* define `picture` as an 8x8 array, and flatten it into a 1D vector\n"
   ]
  },
  {
   "cell_type": "code",
   "execution_count": 47,
   "metadata": {},
   "outputs": [],
   "source": [
    "import classes\n",
    "import numpy as np\n",
    "\n",
    "picture = np.array([[ 0.,  0.,  5., 13.,  9.,  1.,  0.,  0.],\n",
    "       [ 0.,  0., 13., 15., 10., 15.,  5.,  0.],\n",
    "       [ 0.,  3., 15.,  2.,  0., 11.,  8.,  0.],\n",
    "       [ 0.,  4., 12.,  0.,  0.,  8.,  8.,  0.],\n",
    "       [ 0.,  5.,  8.,  0.,  0.,  9.,  8.,  0.],\n",
    "       [ 0.,  4., 11.,  0.,  1., 12.,  7.,  0.],\n",
    "       [ 0.,  2., 14.,  5., 10., 12.,  0.,  0.],\n",
    "       [ 0.,  0.,  6., 13., 10.,  0.,  0.,  0.]])\n",
    "\n",
    "picture = picture.reshape(1, 64)"
   ]
  },
  {
   "cell_type": "code",
   "execution_count": 48,
   "metadata": {},
   "outputs": [
    {
     "data": {
      "text/plain": [
       "(1, 64)"
      ]
     },
     "execution_count": 48,
     "metadata": {},
     "output_type": "execute_result"
    }
   ],
   "source": [
    "picture.shape"
   ]
  },
  {
   "cell_type": "markdown",
   "metadata": {},
   "source": [
    "Use random data, or convolute a vector."
   ]
  },
  {
   "cell_type": "code",
   "execution_count": 49,
   "metadata": {},
   "outputs": [],
   "source": [
    "n1 = classes.Neuron(input=np.arange(7), bias=1)\n",
    "\n",
    "# or\n",
    "\n",
    "n1 = classes.Neuron(input=picture, bias=1)"
   ]
  },
  {
   "cell_type": "markdown",
   "metadata": {},
   "source": [
    "Describe the `Neuron`, which displays the calculation taking place."
   ]
  },
  {
   "cell_type": "code",
   "execution_count": 50,
   "metadata": {},
   "outputs": [
    {
     "name": "stdout",
     "output_type": "stream",
     "text": [
      "n0: ( [[ 0.  0.  5. 13.  9.  1.  0.  0.  0.  0. 13. 15. 10. 15.  5.  0.  0.  3.\n",
      "  15.  2.  0. 11.  8.  0.  0.  4. 12.  0.  0.  8.  8.  0.  0.  5.  8.  0.\n",
      "   0.  9.  8.  0.  0.  4. 11.  0.  1. 12.  7.  0.  0.  2. 14.  5. 10. 12.\n",
      "   0.  0.  0.  0.  6. 13. 10.  0.  0.  0.]] * [-0.28] ) + 0.7 = [ 0.7   0.7  -0.7  -2.94 -1.82  0.42  0.7   0.7   0.7   0.7  -2.94 -3.5\n",
      " -2.1  -3.5  -0.7   0.7   0.7  -0.14 -3.5   0.14  0.7  -2.38 -1.54  0.7\n",
      "  0.7  -0.42 -2.66  0.7   0.7  -1.54 -1.54  0.7   0.7  -0.7  -1.54  0.7\n",
      "  0.7  -1.82 -1.54  0.7   0.7  -0.42 -2.38  0.7   0.42 -2.66 -1.26  0.7\n",
      "  0.7   0.14 -3.22 -0.7  -2.1  -2.66  0.7   0.7   0.7   0.7  -0.98 -2.94\n",
      " -2.1   0.7   0.7   0.7 ]\n"
     ]
    }
   ],
   "source": [
    "n1.describe()"
   ]
  },
  {
   "cell_type": "code",
   "execution_count": 51,
   "metadata": {},
   "outputs": [
    {
     "data": {
      "text/plain": [
       "array([ 0.7 ,  0.7 , -0.7 , -2.94, -1.82,  0.42,  0.7 ,  0.7 ,  0.7 ,\n",
       "        0.7 , -2.94, -3.5 , -2.1 , -3.5 , -0.7 ,  0.7 ,  0.7 , -0.14,\n",
       "       -3.5 ,  0.14,  0.7 , -2.38, -1.54,  0.7 ,  0.7 , -0.42, -2.66,\n",
       "        0.7 ,  0.7 , -1.54, -1.54,  0.7 ,  0.7 , -0.7 , -1.54,  0.7 ,\n",
       "        0.7 , -1.82, -1.54,  0.7 ,  0.7 , -0.42, -2.38,  0.7 ,  0.42,\n",
       "       -2.66, -1.26,  0.7 ,  0.7 ,  0.14, -3.22, -0.7 , -2.1 , -2.66,\n",
       "        0.7 ,  0.7 ,  0.7 ,  0.7 , -0.98, -2.94, -2.1 ,  0.7 ,  0.7 ,\n",
       "        0.7 ])"
      ]
     },
     "execution_count": 51,
     "metadata": {},
     "output_type": "execute_result"
    }
   ],
   "source": [
    "n1.output"
   ]
  }
 ],
 "metadata": {
  "kernelspec": {
   "display_name": "Python 3.10.6 64-bit",
   "language": "python",
   "name": "python3"
  },
  "language_info": {
   "codemirror_mode": {
    "name": "ipython",
    "version": 3
   },
   "file_extension": ".py",
   "mimetype": "text/x-python",
   "name": "python",
   "nbconvert_exporter": "python",
   "pygments_lexer": "ipython3",
   "version": "3.10.7"
  },
  "orig_nbformat": 4,
  "vscode": {
   "interpreter": {
    "hash": "31f2aee4e71d21fbe5cf8b01ff0e069b9275f58929596ceb00d14d90e3e16cd6"
   }
  }
 },
 "nbformat": 4,
 "nbformat_minor": 2
}
