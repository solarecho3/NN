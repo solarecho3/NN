{
 "cells": [
  {
   "cell_type": "markdown",
   "metadata": {},
   "source": [
    "#### Initialize\n",
    "\n",
    "* import the `classes` module\n",
    "* import numpy\n",
    "* define `picture` as an 8x8 array, and flatten it into a 1D vector\n"
   ]
  },
  {
   "cell_type": "code",
   "execution_count": 1,
   "metadata": {},
   "outputs": [],
   "source": [
    "import classes\n",
    "import numpy as np\n",
    "\n",
    "picture = np.array([[ 0.,  0.,  5., 13.,  9.,  1.,  0.,  0.],\n",
    "       [ 0.,  0., 13., 15., 10., 15.,  5.,  0.],\n",
    "       [ 0.,  3., 15.,  2.,  0., 11.,  8.,  0.],\n",
    "       [ 0.,  4., 12.,  0.,  0.,  8.,  8.,  0.],\n",
    "       [ 0.,  5.,  8.,  0.,  0.,  9.,  8.,  0.],\n",
    "       [ 0.,  4., 11.,  0.,  1., 12.,  7.,  0.],\n",
    "       [ 0.,  2., 14.,  5., 10., 12.,  0.,  0.],\n",
    "       [ 0.,  0.,  6., 13., 10.,  0.,  0.,  0.]])\n",
    "\n",
    "picture = picture.reshape(1, 64)"
   ]
  },
  {
   "cell_type": "code",
   "execution_count": 2,
   "metadata": {},
   "outputs": [
    {
     "data": {
      "text/plain": [
       "(1, 64)"
      ]
     },
     "execution_count": 2,
     "metadata": {},
     "output_type": "execute_result"
    }
   ],
   "source": [
    "picture.shape"
   ]
  },
  {
   "cell_type": "markdown",
   "metadata": {},
   "source": [
    "Use random data, or convolute a vector."
   ]
  },
  {
   "cell_type": "code",
   "execution_count": 3,
   "metadata": {},
   "outputs": [],
   "source": [
    "n1 = classes.Neuron(input=np.arange(7), bias=1)\n",
    "\n",
    "# or\n",
    "\n",
    "n1 = classes.Neuron(input=picture, bias=1)"
   ]
  },
  {
   "cell_type": "markdown",
   "metadata": {},
   "source": [
    "Describe the `Neuron`, which displays the calculation taking place."
   ]
  },
  {
   "cell_type": "code",
   "execution_count": 4,
   "metadata": {},
   "outputs": [
    {
     "name": "stdout",
     "output_type": "stream",
     "text": [
      "n0: ( [[ 0.  0.  5. 13.  9.  1.  0.  0.  0.  0. 13. 15. 10. 15.  5.  0.  0.  3.\n",
      "  15.  2.  0. 11.  8.  0.  0.  4. 12.  0.  0.  8.  8.  0.  0.  5.  8.  0.\n",
      "   0.  9.  8.  0.  0.  4. 11.  0.  1. 12.  7.  0.  0.  2. 14.  5. 10. 12.\n",
      "   0.  0.  0.  0.  6. 13. 10.  0.  0.  0.]] * [0.47] ) + 0.1 = [0.1  0.1  2.45 6.21 4.33 0.57 0.1  0.1  0.1  0.1  6.21 7.15 4.8  7.15\n",
      " 2.45 0.1  0.1  1.51 7.15 1.04 0.1  5.27 3.86 0.1  0.1  1.98 5.74 0.1\n",
      " 0.1  3.86 3.86 0.1  0.1  2.45 3.86 0.1  0.1  4.33 3.86 0.1  0.1  1.98\n",
      " 5.27 0.1  0.57 5.74 3.39 0.1  0.1  1.04 6.68 2.45 4.8  5.74 0.1  0.1\n",
      " 0.1  0.1  2.92 6.21 4.8  0.1  0.1  0.1 ]\n"
     ]
    }
   ],
   "source": [
    "n1.describe()"
   ]
  },
  {
   "cell_type": "code",
   "execution_count": 5,
   "metadata": {},
   "outputs": [
    {
     "data": {
      "text/plain": [
       "array([0.1 , 0.1 , 2.45, 6.21, 4.33, 0.57, 0.1 , 0.1 , 0.1 , 0.1 , 6.21,\n",
       "       7.15, 4.8 , 7.15, 2.45, 0.1 , 0.1 , 1.51, 7.15, 1.04, 0.1 , 5.27,\n",
       "       3.86, 0.1 , 0.1 , 1.98, 5.74, 0.1 , 0.1 , 3.86, 3.86, 0.1 , 0.1 ,\n",
       "       2.45, 3.86, 0.1 , 0.1 , 4.33, 3.86, 0.1 , 0.1 , 1.98, 5.27, 0.1 ,\n",
       "       0.57, 5.74, 3.39, 0.1 , 0.1 , 1.04, 6.68, 2.45, 4.8 , 5.74, 0.1 ,\n",
       "       0.1 , 0.1 , 0.1 , 2.92, 6.21, 4.8 , 0.1 , 0.1 , 0.1 ])"
      ]
     },
     "execution_count": 5,
     "metadata": {},
     "output_type": "execute_result"
    }
   ],
   "source": [
    "n1.output"
   ]
  },
  {
   "cell_type": "code",
   "execution_count": 8,
   "metadata": {},
   "outputs": [],
   "source": [
    "l1 = classes.Layer(64, picture, 1)"
   ]
  },
  {
   "cell_type": "code",
   "execution_count": 9,
   "metadata": {},
   "outputs": [
    {
     "data": {
      "text/plain": [
       "array([[ 0.8 ,  0.5 ,  5.4 , ...,  0.1 ,  0.5 ,  0.9 ],\n",
       "       [ 0.8 ,  0.5 ,  3.9 , ...,  0.1 ,  0.5 ,  0.9 ],\n",
       "       [ 0.8 ,  0.5 , -0.8 , ...,  0.1 ,  0.5 ,  0.9 ],\n",
       "       ...,\n",
       "       [ 0.8 ,  0.5 ,  1.15, ...,  0.1 ,  0.5 ,  0.9 ],\n",
       "       [ 0.8 ,  0.5 ,  5.4 , ...,  0.1 ,  0.5 ,  0.9 ],\n",
       "       [ 0.8 ,  0.5 ,  3.15, ...,  0.1 ,  0.5 ,  0.9 ]])"
      ]
     },
     "execution_count": 9,
     "metadata": {},
     "output_type": "execute_result"
    }
   ],
   "source": [
    "l1.output"
   ]
  },
  {
   "cell_type": "code",
   "execution_count": 12,
   "metadata": {},
   "outputs": [
    {
     "data": {
      "text/plain": [
       "64"
      ]
     },
     "execution_count": 12,
     "metadata": {},
     "output_type": "execute_result"
    }
   ],
   "source": [
    "l1.count()"
   ]
  },
  {
   "cell_type": "code",
   "execution_count": 11,
   "metadata": {},
   "outputs": [
    {
     "name": "stdout",
     "output_type": "stream",
     "text": [
      "n0: [0.94] + 0.8\n",
      "n1: [0.64] + 0.5\n",
      "n2: [-0.3] + 0.7\n",
      "n3: [0.86] + 0.3\n",
      "n4: [0.7] + 0.8\n",
      "n5: [-0.37] + 0.9\n",
      "n6: [0.22] + 0.5\n",
      "n7: [0.85] + 0.6\n",
      "n8: [0.18] + 0.7\n",
      "n9: [0.37] + 0.5\n",
      "n10: [0.41] + 0.6\n",
      "n11: [-0.75] + 0.7\n",
      "n12: [0.79] + 0.7\n",
      "n13: [-0.49] + 0.0\n",
      "n14: [0.47] + 0.2\n",
      "n15: [0.63] + 0.7\n",
      "n16: [0.01] + 0.4\n",
      "n17: [-0.91] + 0.6\n",
      "n18: [0.5] + 0.1\n",
      "n19: [0.91] + 0.5\n",
      "n20: [-0.87] + 0.7\n",
      "n21: [-0.92] + 0.8\n",
      "n22: [0.96] + 0.0\n",
      "n23: [0.59] + 0.4\n",
      "n24: [0.35] + 0.3\n",
      "n25: [-0.67] + 0.2\n",
      "n26: [0.13] + 0.7\n",
      "n27: [-0.05] + 0.8\n",
      "n28: [0.59] + 0.8\n",
      "n29: [-0.88] + 0.1\n",
      "n30: [0.31] + 0.1\n",
      "n31: [-0.78] + 0.8\n",
      "n32: [0.14] + 0.8\n",
      "n33: [0.25] + 0.1\n",
      "n34: [0.72] + 0.6\n",
      "n35: [0.94] + 0.3\n",
      "n36: [-0.58] + 0.7\n",
      "n37: [-0.99] + 0.6\n",
      "n38: [0.8] + 0.9\n",
      "n39: [-0.01] + 0.9\n",
      "n40: [0.4] + 0.4\n",
      "n41: [-0.1] + 0.7\n",
      "n42: [-0.02] + 0.1\n",
      "n43: [0.8] + 0.6\n",
      "n44: [0.54] + 0.6\n",
      "n45: [0.44] + 0.8\n",
      "n46: [0.52] + 0.4\n",
      "n47: [-0.11] + 0.6\n",
      "n48: [-0.39] + 0.9\n",
      "n49: [-0.01] + 0.1\n",
      "n50: [-0.67] + 0.3\n",
      "n51: [0.88] + 0.1\n",
      "n52: [-0.41] + 0.5\n",
      "n53: [0.27] + 0.8\n",
      "n54: [0.69] + 0.2\n",
      "n55: [-0.41] + 0.9\n",
      "n56: [0.7] + 0.2\n",
      "n57: [0.64] + 0.9\n",
      "n58: [-0.62] + 0.1\n",
      "n59: [-0.36] + 0.2\n",
      "n60: [0.45] + 0.4\n",
      "n61: [0.09] + 0.1\n",
      "n62: [0.94] + 0.5\n",
      "n63: [0.49] + 0.9\n"
     ]
    }
   ],
   "source": [
    "l1.describe()"
   ]
  },
  {
   "cell_type": "code",
   "execution_count": null,
   "metadata": {},
   "outputs": [],
   "source": []
  }
 ],
 "metadata": {
  "kernelspec": {
   "display_name": "Python 3.10.6 64-bit",
   "language": "python",
   "name": "python3"
  },
  "language_info": {
   "codemirror_mode": {
    "name": "ipython",
    "version": 3
   },
   "file_extension": ".py",
   "mimetype": "text/x-python",
   "name": "python",
   "nbconvert_exporter": "python",
   "pygments_lexer": "ipython3",
   "version": "3.10.7"
  },
  "orig_nbformat": 4,
  "vscode": {
   "interpreter": {
    "hash": "31f2aee4e71d21fbe5cf8b01ff0e069b9275f58929596ceb00d14d90e3e16cd6"
   }
  }
 },
 "nbformat": 4,
 "nbformat_minor": 2
}
